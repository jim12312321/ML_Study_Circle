{
 "cells": [
  {
   "cell_type": "markdown",
   "metadata": {},
   "source": [
    "# 類別\n",
    "---\n",
    "\n",
    "- 簡介\n",
    "- 類別定義"
   ]
  },
  {
   "cell_type": "markdown",
   "metadata": {},
   "source": [
    "## 簡介\n",
    "---\n",
    "> Class 提供了一種結合資料與功能的手段。建立一個 class 將會新增一個物件的型別 (type)，並且允許建立該型別的新實例 (instance)。每一個 class 實例可以擁有一些維持該實例狀態的屬性 (attribute)。Class 實例也可以有一些（由其 class 所定義的）method（方法），用於修改該實例的狀態。 -from [python.org](https://docs.python.org/zh-tw/3/tutorial/classes.html)\n",
    "\n",
    "簡單來說，類別的目的在於提供一種定義物件的方法，舉例來說：\n",
    "<br>人是一種物件，那對應的屬性就可以是生理性別、年齡等狀態，而方法則是人可以做的行為，像是吃飯、睡覺等，最後實例則是將人這個物件具體化，像是小明是個人，那小明就是歸屬在人這種物件中的實例。\n"
   ]
  },
  {
   "cell_type": "markdown",
   "metadata": {},
   "source": [
    "## 類別定義\n",
    "---\n",
    "\n",
    "上面有提到一個類別通常會包含`屬性`、`方法`，要注意的地方是若變數直接寫在 class 的下一層，則任何被這個 class 實體化的實例都會取用到同一個變數，且無法透過內部方法修改屬性，因此這樣的寫法較少見，常見的作法是使用 `__init__` 這個\"特別方法\"(詳情可參見: [Special method](https://docs.python.org/3/reference/datamodel.html#special-method-names)) ，當實體化一個實例時，便會呼叫 `__init__` 初始化，另外要注意的是 `self` ，`self` 就是在類別中表示當前類別，因此可以在類別中利用 `self` 提取屬性或方法，而寫法可以簡單呈現成：\n",
    "\n",
    "```python\n",
    "class class_name:\n",
    "    def __init__(self):\n",
    "        self.var\n",
    "    def foo(self):\n",
    "        do_something\n",
    "```"
   ]
  },
  {
   "cell_type": "code",
   "execution_count": 14,
   "metadata": {},
   "outputs": [],
   "source": [
    "class person: \n",
    "    def __init__(self):\n",
    "        self.age = 18 #attribute\n",
    "        self.status = \"None\" #attribute\n",
    "    def go_to_bed(self): #method\n",
    "        self.status = \"sleep\"\n",
    "    def year_passed(self): #method\n",
    "        self.age += 1"
   ]
  },
  {
   "cell_type": "code",
   "execution_count": 16,
   "metadata": {},
   "outputs": [
    {
     "name": "stdout",
     "output_type": "stream",
     "text": [
      "My age is 18,and status is None.\n",
      "My age is 18,and status is sleep.\n",
      "My age is 19,and status is sleep.\n"
     ]
    }
   ],
   "source": [
    "me = person() #me is a instance of class \"person\"\n",
    "print(\"My age is {},and status is {}.\".format(me.age,me.status))\n",
    "me.go_to_bed() #change attribute \"status\"\n",
    "print(\"My age is {},and status is {}.\".format(me.age,me.status))\n",
    "me.year_passed() #change attribute \"age\"\n",
    "print(\"My age is {},and status is {}.\".format(me.age,me.status))"
   ]
  },
  {
   "cell_type": "markdown",
   "metadata": {},
   "source": [
    "而類別在初始化時 (如同函式宣告中的參數) 也可以輸入一些引數來初始化實例中的屬性。"
   ]
  },
  {
   "cell_type": "code",
   "execution_count": 17,
   "metadata": {},
   "outputs": [],
   "source": [
    "class person: \n",
    "    def __init__(self,name):\n",
    "        self.name = name #attribute\n",
    "        self.age = 18 #attribute\n",
    "        self.status = \"None\" #attribute\n",
    "    def go_to_bed(self): #method\n",
    "        self.status = \"sleep\"\n",
    "    def year_passed(self): #method\n",
    "        self.age += 1"
   ]
  },
  {
   "cell_type": "code",
   "execution_count": 18,
   "metadata": {},
   "outputs": [
    {
     "name": "stdout",
     "output_type": "stream",
     "text": [
      "My name is Jason.\n"
     ]
    }
   ],
   "source": [
    "me = person(\"Jason\") #initially name = Jason\n",
    "print(\"My name is {}.\".format(me.name))"
   ]
  },
  {
   "cell_type": "markdown",
   "metadata": {},
   "source": [
    "在這個教學中還有很多跟類別有關的重要議題沒有涵蓋到，如：類別的封裝、繼承、多型等議題(這些才是類別的精隨！)，但這些議題除非要繼續鑽研 python，不然以初學者來說可以先忽略，就把這些主題留給有興趣的人繼續發掘吧！"
   ]
  }
 ],
 "metadata": {
  "interpreter": {
   "hash": "b3ba2566441a7c06988d0923437866b63cedc61552a5af99d1f4fb67d367b25f"
  },
  "kernelspec": {
   "display_name": "Python 3.9.7 ('base')",
   "language": "python",
   "name": "python3"
  },
  "language_info": {
   "codemirror_mode": {
    "name": "ipython",
    "version": 3
   },
   "file_extension": ".py",
   "mimetype": "text/x-python",
   "name": "python",
   "nbconvert_exporter": "python",
   "pygments_lexer": "ipython3",
   "version": "3.9.7"
  },
  "orig_nbformat": 4
 },
 "nbformat": 4,
 "nbformat_minor": 2
}
