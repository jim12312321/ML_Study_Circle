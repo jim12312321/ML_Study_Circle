{
 "cells": [
  {
   "cell_type": "markdown",
   "metadata": {
    "id": "8H9vhQl7W_JE"
   },
   "source": [
    "# 函式\n",
    "---\n",
    "\n",
    "- 函式宣告\n",
    "- 呼叫函式\n",
    "- 遞迴呼叫"
   ]
  },
  {
   "cell_type": "markdown",
   "metadata": {},
   "source": [
    "## 函式宣告（Function Definition）\n",
    "---\n",
    "\n",
    "函式宣告使用關鍵字 `def` ，其後空一格接**函式名稱**與**小括弧**，小括弧用來放**參數**列\n",
    "\n",
    "- 函式內容與 `if` , `for` 語句相同皆須加 `:` 和**縮排**\n",
    "- 函式可用 `return` 設定回傳值 （Return Value） ，並可回傳多個數值，也可以無回傳值\n",
    "\n",
    "```python\n",
    "def function_name(parameter1, parameter2):\n",
    "    some_statement # Do something\n",
    "    return ret_val_1,ret_val_2\n",
    "```\n",
    "\n",
    "函式宣告時也可以自訂預設參數，有預設值的參數在執行函式呼叫時，若未填入該值，則使用預設值。其他未預設之參數，每次進行函式呼叫時，都必須填入對應的引數。\n",
    "\n",
    "```python\n",
    "def foo(p1,p2=0): #initially p2 = 0\n",
    "    some_statement # Do something\n",
    "    return ret\n",
    "```\n",
    "\n",
    "函式宣告時可以加上簡易的**註解**協助理解，若註解在參數則用 `:`，若註解在回傳值則用 `->`。若要查看函式註解可用 `__annotations__` method."
   ]
  },
  {
   "cell_type": "code",
   "execution_count": 1,
   "metadata": {},
   "outputs": [],
   "source": [
    "def add(v1:int,v2:int)-> \"v1+v2\":\n",
    "    return v1+v2"
   ]
  },
  {
   "cell_type": "code",
   "execution_count": 2,
   "metadata": {},
   "outputs": [
    {
     "data": {
      "text/plain": [
       "{'v1': int, 'v2': int, 'return': 'v1+v2'}"
      ]
     },
     "execution_count": 2,
     "metadata": {},
     "output_type": "execute_result"
    }
   ],
   "source": [
    "add.__annotations__"
   ]
  },
  {
   "cell_type": "markdown",
   "metadata": {},
   "source": [
    "## 呼叫函式\n",
    "---\n",
    "\n",
    "打上函式名稱，其後接小括弧，小括弧用來放**引數**列，即完成函式的呼叫\n",
    "\n",
    "```python\n",
    "function_name(argument1, argument2, more_arguments)\n",
    "```"
   ]
  },
  {
   "cell_type": "code",
   "execution_count": null,
   "metadata": {},
   "outputs": [],
   "source": [
    "#函數\n",
    "def add(v1,v2):     #回傳一個值\n",
    "  return v1+v2\n",
    "\n",
    "print(add(1,2))      #呼叫函式\n",
    "print('\\n')\n",
    "\n",
    "def add_sub(v1,v2):   #回傳多個值\n",
    "  return v1+v2,v1-v2\n",
    "\n",
    "print(add_sub(1,2))   #呼叫函式"
   ]
  },
  {
   "cell_type": "markdown",
   "metadata": {},
   "source": [
    "## 遞迴 (Recursion) 呼叫\n",
    "---\n",
    "\n",
    "在 python_basic 中我們提過重複執行的指令可以用 `while`, `for` 等迴圈來實作迭代 (Iteration) ，而還有另一種方法也可以達成一樣的效果，那就是遞迴呼叫，遞迴可透過**呼叫自身函式**來完成。\n",
    "\n",
    "遞迴注意事項：\n",
    "- 要設定終止條件\n",
    "\n",
    "以下程式以計算費式數列為例，分別呈現迭代與遞迴寫法。"
   ]
  },
  {
   "cell_type": "code",
   "execution_count": 9,
   "metadata": {},
   "outputs": [],
   "source": [
    "# iter ver.\n",
    "# return k-th fib number\n",
    "def fib_iter(k):\n",
    "    a = 0\n",
    "    b = 1\n",
    "    for i in range(1,k):\n",
    "        tmp = b\n",
    "        b += a\n",
    "        a = tmp\n",
    "    return b"
   ]
  },
  {
   "cell_type": "code",
   "execution_count": 11,
   "metadata": {},
   "outputs": [],
   "source": [
    "# recu ver.\n",
    "# return k-th fib number\n",
    "def fib_recu(k):\n",
    "    if k == 0:\n",
    "        return 0\n",
    "    elif k == 1:\n",
    "        return 1\n",
    "    else:\n",
    "        return fib_recu(k-2)+fib_recu(k-1)"
   ]
  }
 ],
 "metadata": {
  "interpreter": {
   "hash": "b3ba2566441a7c06988d0923437866b63cedc61552a5af99d1f4fb67d367b25f"
  },
  "kernelspec": {
   "display_name": "Python 3.9.7 ('base')",
   "language": "python",
   "name": "python3"
  },
  "language_info": {
   "codemirror_mode": {
    "name": "ipython",
    "version": 3
   },
   "file_extension": ".py",
   "mimetype": "text/x-python",
   "name": "python",
   "nbconvert_exporter": "python",
   "pygments_lexer": "ipython3",
   "version": "3.9.7"
  },
  "orig_nbformat": 4
 },
 "nbformat": 4,
 "nbformat_minor": 2
}
